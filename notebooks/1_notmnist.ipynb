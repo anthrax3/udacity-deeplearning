{
 "cells": [
  {
   "cell_type": "markdown",
   "metadata": {
    "colab_type": "text",
    "id": "5hIbr52I7Z7U"
   },
   "source": [
    "Deep Learning\n",
    "=============\n",
    "\n",
    "Assignment 1\n",
    "------------\n",
    "\n",
    "The objective of this assignment is to learn about simple data curation practices, and familiarize you with some of the data we'll be reusing later.\n",
    "\n",
    "This notebook uses the [notMNIST](http://yaroslavvb.blogspot.com/2011/09/notmnist-dataset.html) dataset to be used with python experiments. This dataset is designed to look like the classic [MNIST](http://yann.lecun.com/exdb/mnist/) dataset, while looking a little more like real data: it's a harder task, and the data is a lot less 'clean' than MNIST."
   ]
  },
  {
   "cell_type": "code",
   "execution_count": 3,
   "metadata": {
    "cellView": "both",
    "colab": {
     "autoexec": {
      "startup": false,
      "wait_interval": 0
     }
    },
    "colab_type": "code",
    "collapsed": false,
    "id": "apJbCsBHl-2A"
   },
   "outputs": [],
   "source": [
    "# These are all the modules we'll be using later. Make sure you can import them\n",
    "# before proceeding further.\n",
    "from __future__ import print_function\n",
    "import matplotlib.pyplot as plt\n",
    "import numpy as np\n",
    "import os\n",
    "import sys\n",
    "import tarfile\n",
    "import time\n",
    "from IPython.display import display, Image\n",
    "from scipy import ndimage\n",
    "from sklearn.linear_model import LogisticRegression\n",
    "from six.moves.urllib.request import urlretrieve\n",
    "from six.moves import cPickle as pickle\n",
    "\n",
    "# Config the matlotlib backend as plotting inline in IPython\n",
    "%matplotlib inline"
   ]
  },
  {
   "cell_type": "markdown",
   "metadata": {
    "colab_type": "text",
    "id": "jNWGtZaXn-5j"
   },
   "source": [
    "First, we'll download the dataset to our local machine. The data consists of characters rendered in a variety of fonts on a 28x28 image. The labels are limited to 'A' through 'J' (10 classes). The training set has about 500k and the testset 19000 labelled examples. Given these sizes, it should be possible to train models quickly on any machine."
   ]
  },
  {
   "cell_type": "code",
   "execution_count": 2,
   "metadata": {
    "cellView": "both",
    "colab": {
     "autoexec": {
      "startup": false,
      "wait_interval": 0
     },
     "output_extras": [
      {
       "item_id": 1
      }
     ]
    },
    "colab_type": "code",
    "collapsed": false,
    "executionInfo": {
     "elapsed": 186058,
     "status": "ok",
     "timestamp": 1444485672507,
     "user": {
      "color": "#1FA15D",
      "displayName": "Vincent Vanhoucke",
      "isAnonymous": false,
      "isMe": true,
      "permissionId": "05076109866853157986",
      "photoUrl": "//lh6.googleusercontent.com/-cCJa7dTDcgQ/AAAAAAAAAAI/AAAAAAAACgw/r2EZ_8oYer4/s50-c-k-no/photo.jpg",
      "sessionId": "2a0a5e044bb03b66",
      "userId": "102167687554210253930"
     },
     "user_tz": 420
    },
    "id": "EYRJ4ICW6-da",
    "outputId": "0d0f85df-155f-4a89-8e7e-ee32df36ec8d"
   },
   "outputs": [
    {
     "name": "stdout",
     "output_type": "stream",
     "text": [
      "Found and verified notMNIST_large.tar.gz\n",
      "Found and verified notMNIST_small.tar.gz\n"
     ]
    }
   ],
   "source": [
    "url = 'http://commondatastorage.googleapis.com/books1000/'\n",
    "last_percent_reported = None\n",
    "\n",
    "def download_progress_hook(count, blockSize, totalSize):\n",
    "  \"\"\"A hook to report the progress of a download. This is mostly intended for users with\n",
    "  slow internet connections. Reports every 1% change in download progress.\n",
    "  \"\"\"\n",
    "  global last_percent_reported\n",
    "  percent = int(count * blockSize * 100 / totalSize)\n",
    "\n",
    "  if last_percent_reported != percent:\n",
    "    if percent % 5 == 0:\n",
    "      sys.stdout.write(\"%s%%\" % percent)\n",
    "      sys.stdout.flush()\n",
    "    else:\n",
    "      sys.stdout.write(\".\")\n",
    "      sys.stdout.flush()\n",
    "      \n",
    "    last_percent_reported = percent\n",
    "        \n",
    "def maybe_download(filename, expected_bytes, force=False):\n",
    "  \"\"\"Download a file if not present, and make sure it's the right size.\"\"\"\n",
    "  if force or not os.path.exists(filename):\n",
    "    print('Attempting to download:', filename) \n",
    "    filename, _ = urlretrieve(url + filename, filename, reporthook=download_progress_hook)\n",
    "    print('\\nDownload Complete!')\n",
    "  statinfo = os.stat(filename)\n",
    "  if statinfo.st_size == expected_bytes:\n",
    "    print('Found and verified', filename)\n",
    "  else:\n",
    "    raise Exception(\n",
    "      'Failed to verify ' + filename + '. Can you get to it with a browser?')\n",
    "  return filename\n",
    "\n",
    "train_filename = maybe_download('notMNIST_large.tar.gz', 247336696)\n",
    "test_filename = maybe_download('notMNIST_small.tar.gz', 8458043)"
   ]
  },
  {
   "cell_type": "markdown",
   "metadata": {
    "colab_type": "text",
    "id": "cC3p0oEyF8QT"
   },
   "source": [
    "Extract the dataset from the compressed .tar.gz file.\n",
    "This should give you a set of directories, labelled A through J."
   ]
  },
  {
   "cell_type": "code",
   "execution_count": 4,
   "metadata": {
    "cellView": "both",
    "colab": {
     "autoexec": {
      "startup": false,
      "wait_interval": 0
     },
     "output_extras": [
      {
       "item_id": 1
      }
     ]
    },
    "colab_type": "code",
    "collapsed": false,
    "executionInfo": {
     "elapsed": 186055,
     "status": "ok",
     "timestamp": 1444485672525,
     "user": {
      "color": "#1FA15D",
      "displayName": "Vincent Vanhoucke",
      "isAnonymous": false,
      "isMe": true,
      "permissionId": "05076109866853157986",
      "photoUrl": "//lh6.googleusercontent.com/-cCJa7dTDcgQ/AAAAAAAAAAI/AAAAAAAACgw/r2EZ_8oYer4/s50-c-k-no/photo.jpg",
      "sessionId": "2a0a5e044bb03b66",
      "userId": "102167687554210253930"
     },
     "user_tz": 420
    },
    "id": "H8CBE-WZ8nmj",
    "outputId": "ef6c790c-2513-4b09-962e-27c79390c762"
   },
   "outputs": [
    {
     "name": "stdout",
     "output_type": "stream",
     "text": [
      "notMNIST_large already present - Skipping extraction of notMNIST_large.tar.gz.\n",
      "['notMNIST_large/A', 'notMNIST_large/B', 'notMNIST_large/C', 'notMNIST_large/D', 'notMNIST_large/E', 'notMNIST_large/F', 'notMNIST_large/G', 'notMNIST_large/H', 'notMNIST_large/I', 'notMNIST_large/J']\n",
      "notMNIST_small already present - Skipping extraction of notMNIST_small.tar.gz.\n",
      "['notMNIST_small/A', 'notMNIST_small/B', 'notMNIST_small/C', 'notMNIST_small/D', 'notMNIST_small/E', 'notMNIST_small/F', 'notMNIST_small/G', 'notMNIST_small/H', 'notMNIST_small/I', 'notMNIST_small/J']\n"
     ]
    }
   ],
   "source": [
    "num_classes = 10\n",
    "np.random.seed(133)\n",
    "\n",
    "def maybe_extract(filename, force=False):\n",
    "  root = os.path.splitext(os.path.splitext(filename)[0])[0]  # remove .tar.gz\n",
    "  if os.path.isdir(root) and not force:\n",
    "    # You may override by setting force=True.\n",
    "    print('%s already present - Skipping extraction of %s.' % (root, filename))\n",
    "  else:\n",
    "    print('Extracting data for %s. This may take a while. Please wait.' % root)\n",
    "    tar = tarfile.open(filename)\n",
    "    sys.stdout.flush()\n",
    "    tar.extractall()\n",
    "    tar.close()\n",
    "  data_folders = [\n",
    "    os.path.join(root, d) for d in sorted(os.listdir(root))\n",
    "    if os.path.isdir(os.path.join(root, d))]\n",
    "  if len(data_folders) != num_classes:\n",
    "    raise Exception(\n",
    "      'Expected %d folders, one per class. Found %d instead.' % (\n",
    "        num_classes, len(data_folders)))\n",
    "  print(data_folders)\n",
    "  return data_folders\n",
    "  \n",
    "train_folders = maybe_extract(train_filename)\n",
    "test_folders = maybe_extract(test_filename)"
   ]
  },
  {
   "cell_type": "markdown",
   "metadata": {
    "colab_type": "text",
    "id": "4riXK3IoHgx6"
   },
   "source": [
    "---\n",
    "Problem 1\n",
    "---------\n",
    "\n",
    "Let's take a peek at some of the data to make sure it looks sensible. Each exemplar should be an image of a character A through J rendered in a different font. Display a sample of the images that we just downloaded. Hint: you can use the package IPython.display.\n",
    "\n",
    "---"
   ]
  },
  {
   "cell_type": "code",
   "execution_count": 5,
   "metadata": {
    "collapsed": false
   },
   "outputs": [
    {
     "data": {
      "image/png": "[encoded data removed]",
      "text/plain": [
       "<IPython.core.display.Image object>"
      ]
     },
     "metadata": {},
     "output_type": "display_data"
    },
    {
     "data": {
      "image/png": "[encoded data removed]",
      "text/plain": [
       "<IPython.core.display.Image object>"
      ]
     },
     "metadata": {},
     "output_type": "display_data"
    },
    {
     "data": {
      "image/png": "[encoded data removed]",
      "text/plain": [
       "<IPython.core.display.Image object>"
      ]
     },
     "metadata": {},
     "output_type": "display_data"
    },
    {
     "data": {
      "image/png": "[encoded data removed]",
      "text/plain": [
       "<IPython.core.display.Image object>"
      ]
     },
     "metadata": {},
     "output_type": "display_data"
    }
   ],
   "source": [
    "display(Image(\"notMNIST_large/A/aXJyZXAudHRm.png\"))\n",
    "display(Image(\"notMNIST_small/A/MDEtMDEtMDAudHRm.png\"))\n",
    "display(Image(\"notMNIST_small/B/MDEtMDEtMDAudHRm.png\"))\n",
    "display(Image(\"notMNIST_small/H/MDEtMDEtMDAudHRm.png\"))"
   ]
  },
  {
   "cell_type": "markdown",
   "metadata": {
    "colab_type": "text",
    "id": "PBdkjESPK8tw"
   },
   "source": [
    "Now let's load the data in a more manageable format. Since, depending on your computer setup you might not be able to fit it all in memory, we'll load each class into a separate dataset, store them on disk and curate them independently. Later we'll merge them into a single dataset of manageable size.\n",
    "\n",
    "We'll convert the entire dataset into a 3D array (image index, x, y) of floating point values, normalized to have approximately zero mean and standard deviation ~0.5 to make training easier down the road. \n",
    "\n",
    "A few images might not be readable, we'll just skip them."
   ]
  },
  {
   "cell_type": "code",
   "execution_count": 6,
   "metadata": {
    "cellView": "both",
    "colab": {
     "autoexec": {
      "startup": false,
      "wait_interval": 0
     },
     "output_extras": [
      {
       "item_id": 30
      }
     ]
    },
    "colab_type": "code",
    "collapsed": false,
    "executionInfo": {
     "elapsed": 399874,
     "status": "ok",
     "timestamp": 1444485886378,
     "user": {
      "color": "#1FA15D",
      "displayName": "Vincent Vanhoucke",
      "isAnonymous": false,
      "isMe": true,
      "permissionId": "05076109866853157986",
      "photoUrl": "//lh6.googleusercontent.com/-cCJa7dTDcgQ/AAAAAAAAAAI/AAAAAAAACgw/r2EZ_8oYer4/s50-c-k-no/photo.jpg",
      "sessionId": "2a0a5e044bb03b66",
      "userId": "102167687554210253930"
     },
     "user_tz": 420
    },
    "id": "h7q0XhG3MJdf",
    "outputId": "92c391bb-86ff-431d-9ada-315568a19e59"
   },
   "outputs": [
    {
     "name": "stdout",
     "output_type": "stream",
     "text": [
      "notMNIST_large/A.pickle already present - Skipping pickling.\n",
      "notMNIST_large/B.pickle already present - Skipping pickling.\n",
      "notMNIST_large/C.pickle already present - Skipping pickling.\n",
      "notMNIST_large/D.pickle already present - Skipping pickling.\n",
      "notMNIST_large/E.pickle already present - Skipping pickling.\n",
      "notMNIST_large/F.pickle already present - Skipping pickling.\n",
      "notMNIST_large/G.pickle already present - Skipping pickling.\n",
      "notMNIST_large/H.pickle already present - Skipping pickling.\n",
      "notMNIST_large/I.pickle already present - Skipping pickling.\n",
      "notMNIST_large/J.pickle already present - Skipping pickling.\n",
      "notMNIST_small/A.pickle already present - Skipping pickling.\n",
      "notMNIST_small/B.pickle already present - Skipping pickling.\n",
      "notMNIST_small/C.pickle already present - Skipping pickling.\n",
      "notMNIST_small/D.pickle already present - Skipping pickling.\n",
      "notMNIST_small/E.pickle already present - Skipping pickling.\n",
      "notMNIST_small/F.pickle already present - Skipping pickling.\n",
      "notMNIST_small/G.pickle already present - Skipping pickling.\n",
      "notMNIST_small/H.pickle already present - Skipping pickling.\n",
      "notMNIST_small/I.pickle already present - Skipping pickling.\n",
      "notMNIST_small/J.pickle already present - Skipping pickling.\n"
     ]
    }
   ],
   "source": [
    "image_size = 28  # Pixel width and height.\n",
    "pixel_depth = 255.0  # Number of levels per pixel.\n",
    "\n",
    "def load_letter(folder, min_num_images):\n",
    "  \"\"\"Load the data for a single letter label.\"\"\"\n",
    "  image_files = os.listdir(folder)\n",
    "  dataset = np.ndarray(shape=(len(image_files), image_size, image_size),\n",
    "                         dtype=np.float32)\n",
    "  print(folder)\n",
    "  for image_index, image in enumerate(image_files):\n",
    "    image_file = os.path.join(folder, image)\n",
    "    try:\n",
    "      image_data = (ndimage.imread(image_file).astype(float) - \n",
    "                    pixel_depth / 2) / pixel_depth\n",
    "      if image_data.shape != (image_size, image_size):\n",
    "        raise Exception('Unexpected image shape: %s' % str(image_data.shape))\n",
    "      dataset[image_index, :, :] = image_data\n",
    "    except IOError as e:\n",
    "      print('Could not read:', image_file, ':', e, '- it\\'s ok, skipping.')\n",
    "    \n",
    "  num_images = image_index + 1\n",
    "  dataset = dataset[0:num_images, :, :]\n",
    "  if num_images < min_num_images:\n",
    "    raise Exception('Many fewer images than expected: %d < %d' %\n",
    "                    (num_images, min_num_images))\n",
    "    \n",
    "  print('Full dataset tensor:', dataset.shape)\n",
    "  print('Mean:', np.mean(dataset))\n",
    "  print('Standard deviation:', np.std(dataset))\n",
    "  return dataset\n",
    "        \n",
    "def maybe_pickle(data_folders, min_num_images_per_class, force=False):\n",
    "  dataset_names = []\n",
    "  for folder in data_folders:\n",
    "    set_filename = folder + '.pickle'\n",
    "    dataset_names.append(set_filename)\n",
    "    if os.path.exists(set_filename) and not force:\n",
    "      # You may override by setting force=True.\n",
    "      print('%s already present - Skipping pickling.' % set_filename)\n",
    "    else:\n",
    "      print('Pickling %s.' % set_filename)\n",
    "      dataset = load_letter(folder, min_num_images_per_class)\n",
    "      try:\n",
    "        with open(set_filename, 'wb') as f:\n",
    "          pickle.dump(dataset, f, pickle.HIGHEST_PROTOCOL)\n",
    "      except Exception as e:\n",
    "        print('Unable to save data to', set_filename, ':', e)\n",
    "  \n",
    "  return dataset_names\n",
    "\n",
    "train_datasets = maybe_pickle(train_folders, 45000)\n",
    "test_datasets = maybe_pickle(test_folders, 1800)"
   ]
  },
  {
   "cell_type": "markdown",
   "metadata": {
    "colab_type": "text",
    "id": "vUdbskYE2d87"
   },
   "source": [
    "---\n",
    "Problem 2\n",
    "---------\n",
    "\n",
    "Let's verify that the data still looks good. Displaying a sample of the labels and images from the ndarray. Hint: you can use matplotlib.pyplot.\n",
    "\n",
    "---"
   ]
  },
  {
   "cell_type": "code",
   "execution_count": 7,
   "metadata": {
    "collapsed": false
   },
   "outputs": [
    {
     "name": "stdout",
     "output_type": "stream",
     "text": [
      "Selected dataset: notMNIST_large/B.pickle\n"
     ]
    }
   ],
   "source": [
    "dataset_name = np.random.choice(train_datasets)\n",
    "dataset = pickle.load( open(dataset_name, 'rb') )\n",
    "print(\"Selected dataset: %s\" % dataset_name)"
   ]
  },
  {
   "cell_type": "code",
   "execution_count": 11,
   "metadata": {
    "collapsed": false
   },
   "outputs": [
    {
     "data": {
      "text/plain": [
       "<matplotlib.image.AxesImage at 0x7ff5cbf4b2d0>"
      ]
     },
     "execution_count": 11,
     "metadata": {},
     "output_type": "execute_result"
    },
    {
     "data": {
      "image/png": "[encoded data removed]",
      "text/plain": [
       "<matplotlib.figure.Figure at 0x7ff5cc04ff90>"
      ]
     },
     "metadata": {},
     "output_type": "display_data"
    }
   ],
   "source": [
    "image_data = dataset[np.random.randint(dataset.shape[0])]\n",
    "plt.imshow(image_data)"
   ]
  },
  {
   "cell_type": "markdown",
   "metadata": {
    "colab_type": "text",
    "id": "cYznx5jUwzoO"
   },
   "source": [
    "---\n",
    "Problem 3\n",
    "---------\n",
    "Another check: we expect the data to be balanced across classes. Verify that.\n",
    "\n",
    "---"
   ]
  },
  {
   "cell_type": "code",
   "execution_count": 12,
   "metadata": {
    "collapsed": false
   },
   "outputs": [
    {
     "name": "stdout",
     "output_type": "stream",
     "text": [
      "Samples per class (notMNIST_large)\n",
      "A: 52912\n",
      "C: 52912\n",
      "B: 52912\n",
      "E: 52912\n",
      "D: 52912\n",
      "G: 52912\n",
      "F: 52912\n",
      "I: 52912\n",
      "H: 52912\n",
      "J: 52911\n",
      "Samples per class (notMNIST_small)\n",
      "A: 1873\n",
      "C: 1873\n",
      "B: 1873\n",
      "E: 1873\n",
      "D: 1873\n",
      "F: 1873\n",
      "G: 1872\n",
      "I: 1872\n",
      "H: 1872\n",
      "J: 1872\n"
     ]
    }
   ],
   "source": [
    "def print_samples_per_class(datasets):\n",
    "  samples_per_class = {}\n",
    "\n",
    "  for filepath in datasets:\n",
    "    klass = filepath.split('/')[1].split('.')[0]\n",
    "    dataset = pickle.load( open(filepath, 'rb') )\n",
    "    samples_per_class[klass] = len(dataset)\n",
    "\n",
    "  print('Samples per class (%s)' % datasets[0].split('/')[0])\n",
    "  for klass in sorted(samples_per_class, key=samples_per_class.get, reverse=True):\n",
    "    print('%s: %s' % (klass, samples_per_class[klass]))\n",
    "\n",
    "print_samples_per_class(train_datasets)\n",
    "print_samples_per_class(test_datasets)"
   ]
  },
  {
   "cell_type": "markdown",
   "metadata": {
    "colab_type": "text",
    "id": "LA7M7K22ynCt"
   },
   "source": [
    "Merge and prune the training data as needed. Depending on your computer setup, you might not be able to fit it all in memory, and you can tune `train_size` as needed. The labels will be stored into a separate array of integers 0 through 9.\n",
    "\n",
    "Also create a validation dataset for hyperparameter tuning."
   ]
  },
  {
   "cell_type": "code",
   "execution_count": 13,
   "metadata": {
    "cellView": "both",
    "colab": {
     "autoexec": {
      "startup": false,
      "wait_interval": 0
     },
     "output_extras": [
      {
       "item_id": 1
      }
     ]
    },
    "colab_type": "code",
    "collapsed": false,
    "executionInfo": {
     "elapsed": 411281,
     "status": "ok",
     "timestamp": 1444485897869,
     "user": {
      "color": "#1FA15D",
      "displayName": "Vincent Vanhoucke",
      "isAnonymous": false,
      "isMe": true,
      "permissionId": "05076109866853157986",
      "photoUrl": "//lh6.googleusercontent.com/-cCJa7dTDcgQ/AAAAAAAAAAI/AAAAAAAACgw/r2EZ_8oYer4/s50-c-k-no/photo.jpg",
      "sessionId": "2a0a5e044bb03b66",
      "userId": "102167687554210253930"
     },
     "user_tz": 420
    },
    "id": "s3mWgZLpyuzq",
    "outputId": "8af66da6-902d-4719-bedc-7c9fb7ae7948"
   },
   "outputs": [
    {
     "name": "stdout",
     "output_type": "stream",
     "text": [
      "Training: (200000, 28, 28) (200000,)\n",
      "Validation: (10000, 28, 28) (10000,)\n",
      "Testing: (10000, 28, 28) (10000,)\n"
     ]
    }
   ],
   "source": [
    "def make_arrays(nb_rows, img_size):\n",
    "  if nb_rows:\n",
    "    dataset = np.ndarray((nb_rows, img_size, img_size), dtype=np.float32)\n",
    "    labels = np.ndarray(nb_rows, dtype=np.int32)\n",
    "  else:\n",
    "    dataset, labels = None, None\n",
    "  return dataset, labels\n",
    "\n",
    "def merge_datasets(pickle_files, train_size, valid_size=0):\n",
    "  num_classes = len(pickle_files)\n",
    "  valid_dataset, valid_labels = make_arrays(valid_size, image_size)\n",
    "  train_dataset, train_labels = make_arrays(train_size, image_size)\n",
    "  vsize_per_class = valid_size // num_classes\n",
    "  tsize_per_class = train_size // num_classes\n",
    "    \n",
    "  start_v, start_t = 0, 0\n",
    "  end_v, end_t = vsize_per_class, tsize_per_class\n",
    "  end_l = vsize_per_class+tsize_per_class\n",
    "  for label, pickle_file in enumerate(pickle_files):       \n",
    "    try:\n",
    "      with open(pickle_file, 'rb') as f:\n",
    "        letter_set = pickle.load(f)\n",
    "        # let's shuffle the letters to have random validation and training set\n",
    "        np.random.shuffle(letter_set)\n",
    "        if valid_dataset is not None:\n",
    "          valid_letter = letter_set[:vsize_per_class, :, :]\n",
    "          valid_dataset[start_v:end_v, :, :] = valid_letter\n",
    "          valid_labels[start_v:end_v] = label\n",
    "          start_v += vsize_per_class\n",
    "          end_v += vsize_per_class\n",
    "                    \n",
    "        train_letter = letter_set[vsize_per_class:end_l, :, :]\n",
    "        train_dataset[start_t:end_t, :, :] = train_letter\n",
    "        train_labels[start_t:end_t] = label\n",
    "        start_t += tsize_per_class\n",
    "        end_t += tsize_per_class\n",
    "    except Exception as e:\n",
    "      print('Unable to process data from', pickle_file, ':', e)\n",
    "      raise\n",
    "    \n",
    "  return valid_dataset, valid_labels, train_dataset, train_labels\n",
    "            \n",
    "            \n",
    "train_size = 200000\n",
    "valid_size = 10000\n",
    "test_size = 10000\n",
    "\n",
    "valid_dataset, valid_labels, train_dataset, train_labels = merge_datasets(\n",
    "  train_datasets, train_size, valid_size)\n",
    "_, _, test_dataset, test_labels = merge_datasets(test_datasets, test_size)\n",
    "\n",
    "print('Training:', train_dataset.shape, train_labels.shape)\n",
    "print('Validation:', valid_dataset.shape, valid_labels.shape)\n",
    "print('Testing:', test_dataset.shape, test_labels.shape)"
   ]
  },
  {
   "cell_type": "markdown",
   "metadata": {
    "colab_type": "text",
    "id": "GPTCnjIcyuKN"
   },
   "source": [
    "Next, we'll randomize the data. It's important to have the labels well shuffled for the training and test distributions to match."
   ]
  },
  {
   "cell_type": "code",
   "execution_count": 14,
   "metadata": {
    "cellView": "both",
    "colab": {
     "autoexec": {
      "startup": false,
      "wait_interval": 0
     }
    },
    "colab_type": "code",
    "collapsed": true,
    "id": "6WZ2l2tN2zOL"
   },
   "outputs": [],
   "source": [
    "def randomize(dataset, labels):\n",
    "  permutation = np.random.permutation(labels.shape[0])\n",
    "  shuffled_dataset = dataset[permutation,:,:]\n",
    "  shuffled_labels = labels[permutation]\n",
    "  return shuffled_dataset, shuffled_labels\n",
    "train_dataset, train_labels = randomize(train_dataset, train_labels)\n",
    "test_dataset, test_labels = randomize(test_dataset, test_labels)\n",
    "valid_dataset, valid_labels = randomize(valid_dataset, valid_labels)"
   ]
  },
  {
   "cell_type": "markdown",
   "metadata": {
    "colab_type": "text",
    "id": "puDUTe6t6USl"
   },
   "source": [
    "---\n",
    "Problem 4\n",
    "---------\n",
    "Convince yourself that the data is still good after shuffling!\n",
    "\n",
    "---"
   ]
  },
  {
   "cell_type": "code",
   "execution_count": 24,
   "metadata": {
    "collapsed": false
   },
   "outputs": [
    {
     "name": "stdout",
     "output_type": "stream",
     "text": [
      "Letter B\n"
     ]
    },
    {
     "data": {
      "text/plain": [
       "<matplotlib.collections.PolyCollection at 0x7ff5cb670950>"
      ]
     },
     "execution_count": 24,
     "metadata": {},
     "output_type": "execute_result"
    },
    {
     "data": {
      "image/png": "[encoded data removed]",
      "text/plain": [
       "<matplotlib.figure.Figure at 0x7ff5cb7b5150>"
      ]
     },
     "metadata": {},
     "output_type": "display_data"
    }
   ],
   "source": [
    "labels_classes = ['A', 'B', 'C', 'D', 'E', 'F', 'G', 'H', 'I', 'J']\n",
    "i = np.random.randint(train_dataset.shape[0])\n",
    "label = train_labels[i]\n",
    "image_data = train_dataset[i]\n",
    "\n",
    "print('Letter', labels_classes[label])\n",
    "plt.pcolor(image_data, cmap=\"Greys\")"
   ]
  },
  {
   "cell_type": "markdown",
   "metadata": {
    "colab_type": "text",
    "id": "tIQJaJuwg5Hw"
   },
   "source": [
    "Finally, let's save the data for later reuse:"
   ]
  },
  {
   "cell_type": "code",
   "execution_count": 26,
   "metadata": {
    "cellView": "both",
    "colab": {
     "autoexec": {
      "startup": false,
      "wait_interval": 0
     }
    },
    "colab_type": "code",
    "collapsed": true,
    "id": "QiR_rETzem6C"
   },
   "outputs": [],
   "source": [
    "pickle_file = 'notMNIST.pickle'\n",
    "\n",
    "try:\n",
    "  f = open(pickle_file, 'wb')\n",
    "  save = {\n",
    "    'train_dataset': train_dataset,\n",
    "    'train_labels': train_labels,\n",
    "    'valid_dataset': valid_dataset,\n",
    "    'valid_labels': valid_labels,\n",
    "    'test_dataset': test_dataset,\n",
    "    'test_labels': test_labels,\n",
    "    }\n",
    "  pickle.dump(save, f, pickle.HIGHEST_PROTOCOL)\n",
    "  f.close()\n",
    "except Exception as e:\n",
    "  print('Unable to save data to', pickle_file, ':', e)\n",
    "  raise"
   ]
  },
  {
   "cell_type": "code",
   "execution_count": 27,
   "metadata": {
    "cellView": "both",
    "colab": {
     "autoexec": {
      "startup": false,
      "wait_interval": 0
     },
     "output_extras": [
      {
       "item_id": 1
      }
     ]
    },
    "colab_type": "code",
    "collapsed": false,
    "executionInfo": {
     "elapsed": 413065,
     "status": "ok",
     "timestamp": 1444485899688,
     "user": {
      "color": "#1FA15D",
      "displayName": "Vincent Vanhoucke",
      "isAnonymous": false,
      "isMe": true,
      "permissionId": "05076109866853157986",
      "photoUrl": "//lh6.googleusercontent.com/-cCJa7dTDcgQ/AAAAAAAAAAI/AAAAAAAACgw/r2EZ_8oYer4/s50-c-k-no/photo.jpg",
      "sessionId": "2a0a5e044bb03b66",
      "userId": "102167687554210253930"
     },
     "user_tz": 420
    },
    "id": "hQbLjrW_iT39",
    "outputId": "b440efc6-5ee1-4cbc-d02d-93db44ebd956"
   },
   "outputs": [
    {
     "name": "stdout",
     "output_type": "stream",
     "text": [
      "Compressed pickle size: 690800441\n"
     ]
    }
   ],
   "source": [
    "statinfo = os.stat(pickle_file)\n",
    "print('Compressed pickle size:', statinfo.st_size)"
   ]
  },
  {
   "cell_type": "markdown",
   "metadata": {
    "colab_type": "text",
    "id": "gE_cRAQB33lk"
   },
   "source": [
    "---\n",
    "Problem 5\n",
    "---------\n",
    "\n",
    "By construction, this dataset might contain a lot of overlapping samples, including training data that's also contained in the validation and test set! Overlap between training and test can skew the results if you expect to use your model in an environment where there is never an overlap, but are actually ok if you expect to see training samples recur when you use it.\n",
    "Measure how much overlap there is between training, validation and test samples.\n",
    "\n",
    "Optional questions:\n",
    "- What about near duplicates between datasets? (images that are almost identical)\n",
    "- Create a sanitized validation and test set, and compare your accuracy on those in subsequent assignments.\n",
    "---"
   ]
  },
  {
   "cell_type": "code",
   "execution_count": 293,
   "metadata": {
    "collapsed": false
   },
   "outputs": [
    {
     "name": "stdout",
     "output_type": "stream",
     "text": [
      "Calculating overlaps...\n",
      "Progress 0.00%\n",
      "Overlaps count (1, 2):  0 0\n",
      "Progress 10.00%\n",
      "Overlaps count (1, 2):  4 5\n",
      "Progress 20.00%\n",
      "Overlaps count (1, 2):  8 9\n",
      "Progress 30.00%\n",
      "Overlaps count (1, 2):  16 17\n",
      "Progress 40.00%\n",
      "Overlaps count (1, 2):  20 22\n",
      "Progress 50.00%\n",
      "Overlaps count (1, 2):  24 26\n",
      "Progress 60.00%\n",
      "Overlaps count (1, 2):  31 33\n",
      "Progress 70.00%\n",
      "Overlaps count (1, 2):  39 41\n",
      "Progress 80.00%\n",
      "Overlaps count (1, 2):  44 46\n",
      "Progress 90.00%\n",
      "Overlaps count (1, 2):  162 187\n",
      "validation items in test: 1.68%\n",
      "test items in validation: 1.94%\n",
      "--- 203.366743088 seconds ---\n"
     ]
    }
   ],
   "source": [
    "# METHOD 1\n",
    "start_time = time.time()\n",
    "\n",
    "def print_progress(iteration, total, overlaps1, overlaps2):\n",
    "    print(\"Progress {0:.02f}%\".format(float(100*iteration)/total))\n",
    "    print(\"Overlaps count (1, 2): \", overlaps1.nonzero()[0].shape[0], overlaps2.nonzero()[0].shape[0])\n",
    "\n",
    "def calculate_overlaps(dataset1, labels1, dataset2, labels2):\n",
    "    overlaps1 = np.full(dataset1.shape[0], False)\n",
    "    overlaps2 = np.full(dataset2.shape[0], False)\n",
    "    labels = np.unique(np.concatenate((labels1, labels2), axis = 0))\n",
    "    for label in labels:\n",
    "        print_progress(label, labels.shape[0], overlaps1, overlaps2)\n",
    "        indexes1 = (labels1 == label).nonzero()[0]\n",
    "        indexes2 = (labels2 == label).nonzero()[0]\n",
    "        for index1 in indexes1:\n",
    "            for index2 in indexes2:\n",
    "                if not (overlaps1[index1] and overlaps2[index2]):\n",
    "                    diff = (dataset1[index1] - dataset2[index2])\n",
    "                    if diff.sum() == 0:\n",
    "                        overlaps1[index1] = overlaps2[index2] = True\n",
    "    freq1 = float(overlaps1.nonzero()[0].shape[0]*100)/dataset1.shape[0]\n",
    "    freq2 = float(overlaps2.nonzero()[0].shape[0]*100)/dataset2.shape[0]\n",
    "    return freq1, freq2\n",
    "\n",
    "print('Calculating overlaps...')\n",
    "o1, o2 = calculate_overlaps(valid_dataset, valid_labels, test_dataset, test_labels)\n",
    "# o1, o2 = calculate_overlaps(valid_dataset, valid_labels, train_dataset, train_labels)\n",
    "# o1, o2 = calculate_overlaps(train_dataset, train_labels, test_dataset, test_labels)\n",
    "print(\"validation items in test: {0:.02f}%\".format(o1))\n",
    "print(\"test items in validation: {0:.02f}%\".format(o2))\n",
    "print(\"--- %s seconds ---\" % (time.time() - start_time))"
   ]
  },
  {
   "cell_type": "code",
   "execution_count": 296,
   "metadata": {
    "collapsed": false
   },
   "outputs": [
    {
     "name": "stdout",
     "output_type": "stream",
     "text": [
      "Calculating overlaps...\n",
      "Progress 0.00%\n",
      "Overlaps count (1, 2):  0 0\n",
      "Progress 10.00%\n",
      "Overlaps count (1, 2):  4 5\n",
      "Progress 20.00%\n",
      "Overlaps count (1, 2):  8 9\n",
      "Progress 30.00%\n",
      "Overlaps count (1, 2):  16 17\n",
      "Progress 40.00%\n",
      "Overlaps count (1, 2):  20 22\n",
      "Progress 50.00%\n",
      "Overlaps count (1, 2):  24 26\n",
      "Progress 60.00%\n",
      "Overlaps count (1, 2):  31 33\n",
      "Progress 70.00%\n",
      "Overlaps count (1, 2):  39 41\n",
      "Progress 80.00%\n",
      "Overlaps count (1, 2):  44 46\n",
      "Progress 90.00%\n",
      "Overlaps count (1, 2):  162 187\n",
      "validation items in test: 1.68%\n",
      "test items in validation: 1.94%\n",
      "--- 112.016268015 seconds ---\n"
     ]
    }
   ],
   "source": [
    "# METHOD 2 - 40% faster than METHOD 1\n",
    "start_time = time.time()\n",
    "\n",
    "def print_progress(iteration, total, overlaps1, overlaps2):\n",
    "    print(\"Progress {0:.02f}%\".format(float(100*iteration)/total))\n",
    "    print(\"Overlaps count (1, 2): \", overlaps1.nonzero()[0].shape[0], overlaps2.nonzero()[0].shape[0])\n",
    "\n",
    "def calculate_overlaps(dataset1, labels1, dataset2, labels2):\n",
    "    overlaps1 = np.full(dataset1.shape[0], False)\n",
    "    overlaps2 = np.full(dataset2.shape[0], False)\n",
    "    labels = np.unique(np.concatenate((labels1, labels2), axis = 0))\n",
    "    for label in labels:\n",
    "        print_progress(label, labels.shape[0], overlaps1, overlaps2)\n",
    "        indexes1 = (labels1 == label).nonzero()[0]\n",
    "        indexes2 = (labels2 == label).nonzero()[0]\n",
    "        for index1 in indexes1:\n",
    "            image1 = dataset1[index1] # single image\n",
    "            images2 = dataset2[indexes2] # multiple images\n",
    "            matches = (np.sum(images2 - image1, axis=(2, 1)) == 0) # exact match\n",
    "#             matches = (np.sum( np.abs(images2 - image1), axis=(2, 1)) < 0.05) # near duplicate\n",
    "            matches = matches.nonzero()[0]\n",
    "            if len(matches) > 0:\n",
    "                matched_indexes = indexes2[matches]\n",
    "                overlaps2[matched_indexes] = overlaps1[index1] = True\n",
    "    freq1 = float(overlaps1.nonzero()[0].shape[0]*100)/dataset1.shape[0]\n",
    "    freq2 = float(overlaps2.nonzero()[0].shape[0]*100)/dataset2.shape[0]\n",
    "    return freq1, freq2\n",
    "\n",
    "print('Calculating overlaps...')\n",
    "o1, o2 = calculate_overlaps(valid_dataset, valid_labels, test_dataset, test_labels)\n",
    "# o1, o2 = calculate_overlaps(valid_dataset, valid_labels, train_dataset, train_labels)\n",
    "# o1, o2 = calculate_overlaps(train_dataset, train_labels, test_dataset, test_labels)\n",
    "print(\"validation items in test: {0:.02f}%\".format(o1))\n",
    "print(\"test items in validation: {0:.02f}%\".format(o2))\n",
    "print(\"--- %s seconds ---\" % (time.time() - start_time))"
   ]
  },
  {
   "cell_type": "code",
   "execution_count": 314,
   "metadata": {
    "collapsed": false
   },
   "outputs": [
    {
     "name": "stdout",
     "output_type": "stream",
     "text": [
      "Calculating overlaps between validation and test datasets...\n",
      "Progress 0.00%\n",
      "Overlaps count (1, 2):  0 0\n",
      "--- 0.0042610168457 seconds ---\n",
      "Progress 10.00%\n",
      "Overlaps count (1, 2):  4 5\n",
      "--- 12.2607870102 seconds ---\n",
      "Progress 20.00%\n",
      "Overlaps count (1, 2):  8 9\n",
      "--- 25.6626589298 seconds ---\n",
      "Progress 30.00%\n",
      "Overlaps count (1, 2):  16 17\n",
      "--- 39.4345281124 seconds ---\n",
      "Progress 40.00%\n",
      "Overlaps count (1, 2):  20 22\n",
      "--- 51.3081979752 seconds ---\n",
      "Progress 50.00%\n",
      "Overlaps count (1, 2):  24 26\n",
      "--- 62.4678621292 seconds ---\n",
      "Progress 60.00%\n",
      "Overlaps count (1, 2):  31 33\n",
      "--- 73.4899170399 seconds ---\n",
      "Progress 70.00%\n",
      "Overlaps count (1, 2):  39 41\n",
      "--- 84.6418640614 seconds ---\n",
      "Progress 80.00%\n",
      "Overlaps count (1, 2):  44 46\n",
      "--- 95.626363039 seconds ---\n",
      "Progress 90.00%\n",
      "Overlaps count (1, 2):  162 187\n",
      "--- 106.68808794 seconds ---\n",
      "Overlaps in TRAIN: 0.00%\n",
      "Overlaps in VALIDATION: 1.68%\n",
      "Overlaps in TEST: 1.94%\n",
      "--- 117.730890989 seconds ---\n",
      "Calculating overlaps between validation and train datasets...\n",
      "Progress 0.00%\n",
      "Overlaps count (1, 2):  0 0\n",
      "--- 117.749322891 seconds ---\n",
      "Progress 10.00%\n",
      "Overlaps count (1, 2):  101 120\n",
      "--- 347.636188984 seconds ---\n",
      "Progress 20.00%\n",
      "Overlaps count (1, 2):  190 220\n",
      "--- 586.980489969 seconds ---\n",
      "Progress 30.00%\n",
      "Overlaps count (1, 2):  292 364\n",
      "--- 815.26463294 seconds ---\n",
      "Progress 40.00%\n",
      "Overlaps count (1, 2):  403 490\n",
      "--- 1044.25842404 seconds ---\n",
      "Progress 50.00%\n",
      "Overlaps count (1, 2):  497 619\n",
      "--- 1292.19684601 seconds ---\n",
      "Progress 60.00%\n",
      "Overlaps count (1, 2):  588 728\n",
      "--- 1553.75119996 seconds ---\n",
      "Progress 70.00%\n",
      "Overlaps count (1, 2):  667 819\n",
      "--- 1804.62161899 seconds ---\n",
      "Progress 80.00%\n",
      "Overlaps count (1, 2):  778 969\n",
      "--- 2107.19762611 seconds ---\n",
      "Progress 90.00%\n",
      "Overlaps count (1, 2):  1006 3166\n",
      "--- 2418.6569531 seconds ---\n",
      "Overlaps in TRAIN: 1.65%\n",
      "Overlaps in VALIDATION: 11.60%\n",
      "Overlaps in TEST: 1.94%\n",
      "--- 2676.32055593 seconds ---\n",
      "Calculating overlaps between train and test datasets...\n",
      "Progress 0.00%\n",
      "Overlaps count (1, 2):  0 0\n",
      "--- 2676.36001706 seconds ---\n",
      "Progress 10.00%\n",
      "Overlaps count (1, 2):  129 114\n",
      "--- 2910.13249493 seconds ---\n",
      "Progress 20.00%\n",
      "Overlaps count (1, 2):  253 223\n",
      "--- 59085.4778261 seconds ---\n",
      "Progress 30.00%\n",
      "Overlaps count (1, 2):  408 341\n",
      "--- 59301.5010469 seconds ---\n",
      "Progress 40.00%\n",
      "Overlaps count (1, 2):  551 456\n",
      "--- 59518.648093 seconds ---\n",
      "Progress 50.00%\n",
      "Overlaps count (1, 2):  686 574\n",
      "--- 59735.7238669 seconds ---\n",
      "Progress 60.00%\n",
      "Overlaps count (1, 2):  826 698\n",
      "--- 59951.426055 seconds ---\n",
      "Progress 70.00%\n",
      "Overlaps count (1, 2):  966 813\n",
      "--- 60186.321264 seconds ---\n",
      "Progress 80.00%\n",
      "Overlaps count (1, 2):  1140 951\n",
      "--- 60418.777545 seconds ---\n",
      "Progress 90.00%\n",
      "Overlaps count (1, 2):  3369 1203\n",
      "--- 60658.4720199 seconds ---\n",
      "Overlaps in TRAIN: 2.37%\n",
      "Overlaps in VALIDATION: 11.60%\n",
      "Overlaps in TEST: 13.62%\n",
      "--- 60882.692452 seconds ---\n",
      "--- 60882.69735 seconds ---\n"
     ]
    }
   ],
   "source": [
    "# Generate sanitized validation and test sets\n",
    "\n",
    "start_time = time.time()\n",
    "\n",
    "def print_progress(iteration, total, overlaps1, overlaps2):\n",
    "    print(\"Progress {0:.02f}%\".format(float(100*iteration)/total))\n",
    "    print(\"Overlaps count (1, 2): \", overlaps1.nonzero()[0].shape[0], overlaps2.nonzero()[0].shape[0])\n",
    "    print(\"--- %s seconds ---\" % (time.time() - start_time))\n",
    "\n",
    "def overlaps_percentage(overlaps):\n",
    "    return float(overlaps.nonzero()[0].shape[0]*100)/overlaps.shape[0]\n",
    "\n",
    "def merge_overlaps(overlaps1, overlaps2):\n",
    "    return (overlaps1 == 1) | (overlaps2 == 1)\n",
    "\n",
    "def calculate_overlaps(dataset1, labels1, dataset2, labels2):\n",
    "    overlaps1 = np.full(dataset1.shape[0], False)\n",
    "    overlaps2 = np.full(dataset2.shape[0], False)\n",
    "    labels = np.unique(np.concatenate((labels1, labels2), axis = 0))\n",
    "    for label in labels:\n",
    "        print_progress(label, labels.shape[0], overlaps1, overlaps2)\n",
    "        indexes1 = (labels1 == label).nonzero()[0]\n",
    "        indexes2 = (labels2 == label).nonzero()[0]\n",
    "        for index1 in indexes1:\n",
    "            image1 = dataset1[index1] # single image\n",
    "            images2 = dataset2[indexes2] # multiple images\n",
    "            matches = (np.sum(images2 - image1, axis=(2, 1)) == 0) # exact match\n",
    "#             matches = (np.sum( np.abs(images2 - image1), axis=(2, 1)) < 0.05) # near duplicate\n",
    "            matches = matches.nonzero()[0]\n",
    "            if len(matches) > 0:\n",
    "                matched_indexes = indexes2[matches]\n",
    "                overlaps2[matched_indexes] = overlaps1[index1] = True\n",
    "    return overlaps1, overlaps2\n",
    "\n",
    "\n",
    "overlaps_train = np.full(train_dataset.shape[0], False)\n",
    "overlaps_valid = np.full(valid_dataset.shape[0], False)\n",
    "overlaps_test  = np.full(test_dataset.shape[0], False)\n",
    "\n",
    "print(\"Calculating overlaps between validation and test datasets...\")\n",
    "o1, o2 = calculate_overlaps(valid_dataset, valid_labels, test_dataset, test_labels)\n",
    "overlaps_valid = merge_overlaps(overlaps_valid, o1)\n",
    "overlaps_test  = merge_overlaps(overlaps_test, o2)\n",
    "print(\"Overlaps in TRAIN: {0:.02f}%\".format(overlaps_percentage(overlaps_train)))\n",
    "print(\"Overlaps in VALIDATION: {0:.02f}%\".format(overlaps_percentage(overlaps_valid)))\n",
    "print(\"Overlaps in TEST: {0:.02f}%\".format(overlaps_percentage(overlaps_test)))\n",
    "print(\"--- %s seconds ---\" % (time.time() - start_time))\n",
    "\n",
    "print(\"Calculating overlaps between validation and train datasets...\")\n",
    "o1, o2 = calculate_overlaps(valid_dataset, valid_labels, train_dataset, train_labels)\n",
    "overlaps_valid = merge_overlaps(overlaps_valid, o1)\n",
    "overlaps_train  = merge_overlaps(overlaps_train, o2)\n",
    "print(\"Overlaps in TRAIN: {0:.02f}%\".format(overlaps_percentage(overlaps_train)))\n",
    "print(\"Overlaps in VALIDATION: {0:.02f}%\".format(overlaps_percentage(overlaps_valid)))\n",
    "print(\"Overlaps in TEST: {0:.02f}%\".format(overlaps_percentage(overlaps_test)))\n",
    "print(\"--- %s seconds ---\" % (time.time() - start_time))\n",
    "\n",
    "print(\"Calculating overlaps between train and test datasets...\")\n",
    "o1, o2 = calculate_overlaps(train_dataset, train_labels, test_dataset, test_labels)\n",
    "overlaps_train = merge_overlaps(overlaps_train, o1)\n",
    "overlaps_test  = merge_overlaps(overlaps_test, o2)\n",
    "print(\"Overlaps in TRAIN: {0:.02f}%\".format(overlaps_percentage(overlaps_train)))\n",
    "print(\"Overlaps in VALIDATION: {0:.02f}%\".format(overlaps_percentage(overlaps_valid)))\n",
    "print(\"Overlaps in TEST: {0:.02f}%\".format(overlaps_percentage(overlaps_test)))\n",
    "print(\"--- %s seconds ---\" % (time.time() - start_time))\n",
    "\n",
    "print(\"--- %s seconds ---\" % (time.time() - start_time))"
   ]
  },
  {
   "cell_type": "code",
   "execution_count": 331,
   "metadata": {
    "collapsed": true
   },
   "outputs": [],
   "source": [
    "pickle_file_sanitized = 'notMNIST.sanitized.pickle'\n",
    "\n",
    "try:\n",
    "  f = open(pickle_file_sanitized, 'wb')\n",
    "  save = {\n",
    "    'train_dataset': train_dataset, # we keep the original items in train dataset\n",
    "    'train_labels': train_labels, # we keep the original items in tran dataset\n",
    "    'valid_dataset': valid_dataset[overlaps_valid == False],\n",
    "    'valid_labels': valid_labels[overlaps_valid == False],\n",
    "    'test_dataset': test_dataset[overlaps_test == False],\n",
    "    'test_labels': test_labels[overlaps_test == False],\n",
    "    }\n",
    "  pickle.dump(save, f, pickle.HIGHEST_PROTOCOL)\n",
    "  f.close()\n",
    "except Exception as e:\n",
    "  print('Unable to save data to', pickle_file_sanitized, ':', e)\n",
    "  raise"
   ]
  },
  {
   "cell_type": "code",
   "execution_count": 351,
   "metadata": {
    "collapsed": false
   },
   "outputs": [
    {
     "name": "stdout",
     "output_type": "stream",
     "text": [
      "[original]  Compressed pickle size: 690800441\n",
      "[sanitized] Compressed pickle size: 682881361\n"
     ]
    }
   ],
   "source": [
    "print('[original]  Compressed pickle size:', os.stat(pickle_file).st_size)\n",
    "print('[sanitized] Compressed pickle size:', os.stat(pickle_file_sanitized).st_size)"
   ]
  },
  {
   "cell_type": "markdown",
   "metadata": {
    "colab_type": "text",
    "id": "L8oww1s4JMQx"
   },
   "source": [
    "---\n",
    "Problem 6\n",
    "---------\n",
    "\n",
    "Let's get an idea of what an off-the-shelf classifier can give you on this data. It's always good to check that there is something to learn, and that it's a problem that is not so trivial that a canned solution solves it.\n",
    "\n",
    "Train a simple model on this data using 50, 100, 1000 and 5000 training samples. Hint: you can use the LogisticRegression model from sklearn.linear_model.\n",
    "\n",
    "Optional question: train an off-the-shelf model on all the data!\n",
    "\n",
    "---"
   ]
  },
  {
   "cell_type": "code",
   "execution_count": 10,
   "metadata": {
    "collapsed": false
   },
   "outputs": [],
   "source": [
    "# load datasets\n",
    "pickle_file = 'notMNIST.pickle'\n",
    "dataset = pickle.load( open(pickle_file, 'rb') )\n",
    "train_dataset = dataset['train_dataset']\n",
    "train_labels  = dataset['train_labels']\n",
    "valid_dataset = dataset['valid_dataset']\n",
    "valid_labels  = dataset['valid_labels']\n",
    "test_dataset  = dataset['test_dataset']\n",
    "test_labels   = dataset['test_labels']"
   ]
  },
  {
   "cell_type": "code",
   "execution_count": 5,
   "metadata": {
    "collapsed": true
   },
   "outputs": [],
   "source": [
    "from sklearn.metrics import confusion_matrix, precision_recall_fscore_support, classification_report"
   ]
  },
  {
   "cell_type": "code",
   "execution_count": 6,
   "metadata": {
    "collapsed": false,
    "scrolled": true
   },
   "outputs": [
    {
     "data": {
      "text/plain": [
       "LogisticRegression(C=1.0, class_weight=None, dual=False, fit_intercept=True,\n",
       "          intercept_scaling=1, max_iter=100, multi_class='multinomial',\n",
       "          n_jobs=1, penalty='l2', random_state=None, solver='lbfgs',\n",
       "          tol=0.0001, verbose=0, warm_start=False)"
      ]
     },
     "execution_count": 6,
     "metadata": {},
     "output_type": "execute_result"
    }
   ],
   "source": [
    "n_training_samples = train_dataset.shape[0] # 5000\n",
    "x = train_dataset[:n_training_samples]\n",
    "x = x.reshape(x.shape[0], x.shape[1]*x.shape[2])\n",
    "y = train_labels[:n_training_samples]\n",
    "model = LogisticRegression(multi_class=\"multinomial\", solver=\"lbfgs\")\n",
    "model.fit(x, y) # x = samples, y = labels"
   ]
  },
  {
   "cell_type": "code",
   "execution_count": 11,
   "metadata": {
    "collapsed": false
   },
   "outputs": [
    {
     "name": "stdout",
     "output_type": "stream",
     "text": [
      "Predictions\n",
      "Validation samples/labels datasets shapes: (10000, 784) (10000,)\n",
      "Score:               precision    recall  f1-score   support\n",
      "\n",
      "          A       0.84      0.85      0.84       992\n",
      "          B       0.80      0.85      0.83       948\n",
      "          C       0.86      0.83      0.85      1034\n",
      "          D       0.85      0.85      0.85      1005\n",
      "          E       0.78      0.84      0.81       927\n",
      "          F       0.88      0.85      0.86      1029\n",
      "          G       0.81      0.83      0.82       976\n",
      "          H       0.84      0.83      0.84      1014\n",
      "          I       0.80      0.75      0.78      1060\n",
      "          J       0.84      0.83      0.83      1015\n",
      "\n",
      "avg / total       0.83      0.83      0.83     10000\n",
      "\n",
      "Confusion matrix:\n"
     ]
    },
    {
     "data": {
      "text/plain": [
       "<matplotlib.collections.PolyCollection at 0x7f5fedf94e50>"
      ]
     },
     "execution_count": 11,
     "metadata": {},
     "output_type": "execute_result"
    },
    {
     "data": {
      "image/png": "[encoded data removed]",
      "text/plain": [
       "<matplotlib.figure.Figure at 0x7f601c2c3e50>"
      ]
     },
     "metadata": {},
     "output_type": "display_data"
    }
   ],
   "source": [
    "# Use the validation dataset to generate a report for the classifier\n",
    "print(\"Predictions\")\n",
    "labels = [chr(k) for k in range(ord(\"A\"), ord(\"J\")+1)]\n",
    "x_val = valid_dataset\n",
    "x_val = x_val.reshape(x_val.shape[0], x_val.shape[1]*x_val.shape[2])\n",
    "y_val = valid_labels\n",
    "print(\"Validation samples/labels datasets shapes:\", x_val.shape, y_val.shape)\n",
    "y_predictions = model.predict(x_val)\n",
    "print(\"Score: \", classification_report(y_predictions, y_val, target_names=labels))\n",
    "print(\"Confusion matrix:\")\n",
    "plt.pcolor(confusion_matrix(y_predictions, y_val), cmap=\"Blues\")"
   ]
  },
  {
   "cell_type": "code",
   "execution_count": 37,
   "metadata": {
    "collapsed": false
   },
   "outputs": [
    {
     "name": "stdout",
     "output_type": "stream",
     "text": [
      "EXPECTED / PREDICTED\n"
     ]
    },
    {
     "data": {
      "image/png": "[encoded data removed]",
      "text/plain": [
       "<matplotlib.figure.Figure at 0x7f5fedc1d650>"
      ]
     },
     "metadata": {},
     "output_type": "display_data"
    }
   ],
   "source": [
    "# Take random examples from the validation dataset and try to solve them with our model\n",
    "n_samples = 20\n",
    "indexes = np.random.randint(valid_dataset.shape[0], size=n_samples)\n",
    "x_val = valid_dataset[indexes]\n",
    "x_val = x_val.reshape(x_val.shape[0], x_val.shape[1]*x_val.shape[2])\n",
    "y_val = valid_labels[indexes]\n",
    "y_predictions = model.predict(x_val)\n",
    "\n",
    "print('EXPECTED / PREDICTED')\n",
    "fig = plt.figure()\n",
    "fig.set_size_inches(20, 5)\n",
    "for index, prediction in enumerate(y_predictions):\n",
    "    expected = labels[valid_labels[indexes[index]]]\n",
    "    predicted = labels[prediction]\n",
    "    ax = fig.add_subplot(2, 10, index + 1)\n",
    "    ax.set_axis_off()\n",
    "    ax.set_title(\"%s / %s\" %(expected, predicted))\n",
    "    ax.pcolor(valid_dataset[indexes[index]], cmap=\"Greys\")\n"
   ]
  },
  {
   "cell_type": "code",
   "execution_count": null,
   "metadata": {
    "collapsed": true
   },
   "outputs": [],
   "source": []
  }
 ],
 "metadata": {
  "colab": {
   "default_view": {},
   "name": "1_notmnist.ipynb",
   "provenance": [],
   "version": "0.3.2",
   "views": {}
  },
  "kernelspec": {
   "display_name": "Python 2",
   "language": "python",
   "name": "python2"
  },
  "language_info": {
   "codemirror_mode": {
    "name": "ipython",
    "version": 2
   },
   "file_extension": ".py",
   "mimetype": "text/x-python",
   "name": "python",
   "nbconvert_exporter": "python",
   "pygments_lexer": "ipython2",
   "version": "2.7.6"
  }
 },
 "nbformat": 4,
 "nbformat_minor": 0
}
